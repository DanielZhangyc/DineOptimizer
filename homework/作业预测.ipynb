{
 "cells": [
  {
   "cell_type": "code",
   "execution_count": null,
   "metadata": {},
   "outputs": [],
   "source": [
    "import pandas as pd\n",
    "import numpy as np\n",
    "import matplotlib.pyplot as plt\n",
    "import warnings\n",
    "warnings.filterwarnings('ignore')\n",
    "\n",
    "supermarket_df = pd.read_csv(\"完整数据.csv\"\n",
    "                             ,encoding=\"Windows-1252\")\n",
    "# 邮编缺失值过多，删除\n",
    "supermarket_df.drop(columns=\"Postal Code\", axis=0, inplace=True)\n",
    "\n",
    "supermarket_df[\"Order Date\"] = pd.to_datetime(supermarket_df[\"Order Date\"], format=\"mixed\")\n",
    "supermarket_df[\"Ship Date\"] = pd.to_datetime(supermarket_df[\"Ship Date\"], format=\"mixed\")\n",
    "supermarket_df"
   ]
  },
  {
   "cell_type": "code",
   "execution_count": null,
   "metadata": {},
   "outputs": [],
   "source": [
    "%pip install statsmodels"
   ]
  },
  {
   "cell_type": "markdown",
   "metadata": {},
   "source": [
    "## 训练前预处理"
   ]
  },
  {
   "cell_type": "code",
   "execution_count": null,
   "metadata": {},
   "outputs": [],
   "source": [
    "from statsmodels.tsa.statespace.sarimax import SARIMAX\n",
    "from statsmodels.tsa.seasonal import seasonal_decompose\n",
    "import itertools\n",
    "import numpy as np\n",
    "\n",
    "# 按月份分开\n",
    "\n",
    "sales_total = supermarket_df.set_index(pd.DatetimeIndex(supermarket_df[\"Order Date\"]))\n",
    "sales_total = sales_total.groupby(pd.Grouper(freq='MS'))[\"Sales\"].sum()\n",
    "\n",
    "sales_total.index.freq = \"MS\"\n",
    "sales_total"
   ]
  },
  {
   "cell_type": "markdown",
   "metadata": {},
   "source": [
    "## 检查加法模型/乘法模型"
   ]
  },
  {
   "cell_type": "code",
   "execution_count": null,
   "metadata": {},
   "outputs": [],
   "source": [
    "from statsmodels.tsa.stattools import acf\n",
    "from statsmodels.tsa.seasonal import seasonal_decompose\n",
    "\n",
    "add_results = seasonal_decompose(sales_total, model=\"additive\")\n",
    "mul_results = seasonal_decompose(sales_total, model=\"multipliative\")\n",
    "add_results.plot()\n"
   ]
  },
  {
   "cell_type": "code",
   "execution_count": null,
   "metadata": {},
   "outputs": [],
   "source": [
    "mul_results.plot()"
   ]
  },
  {
   "cell_type": "code",
   "execution_count": null,
   "metadata": {},
   "outputs": [],
   "source": [
    "add_resid = add_results.resid.dropna()\n",
    "mul_resid = mul_results.resid.dropna()\n",
    "add_acf_total = np.sum(np.square(acf(add_resid)))\n",
    "mul_acf_total = np.sum(np.square(acf(mul_resid)))\n",
    "add_acf_total, mul_acf_total, add_acf_total < mul_acf_total"
   ]
  },
  {
   "cell_type": "markdown",
   "metadata": {},
   "source": [
    "## 随机网格搜索"
   ]
  },
  {
   "cell_type": "code",
   "execution_count": null,
   "metadata": {},
   "outputs": [],
   "source": [
    "from statsmodels.tsa.statespace.sarimax import SARIMAX\n",
    "from tqdm import tqdm\n",
    "import random\n",
    "import warnings\n",
    "warnings.filterwarnings('ignore')\n",
    "\n",
    "# 网格搜索\n",
    "params = {\n",
    "  \"p\": [0,1,2,3],\n",
    "  \"d\": [0,1,2,3],\n",
    "  \"q\": [0,1,2,3],\n",
    "  \"P\": [0,1,2,3],\n",
    "  \"D\": [0,1,2,3],\n",
    "  \"Q\": [0,1,2,3]\n",
    "}\n",
    "\n",
    "result_matrix = pd.DataFrame(columns=[\"Parameters\", \"MSE\", \"MAE\" ,\"AIC\" , \"HQIC\",\"Log-Likelihood\"])\n",
    "\n",
    "def grid_search(params):\n",
    "  keys, values = zip(*params.items())\n",
    "  param_combinations = [dict(zip(keys, v)) for v in itertools.product(*values)]\n",
    "  random_param_combinations = random.sample(param_combinations, k=200)\n",
    "  for param in tqdm(random_param_combinations):\n",
    "    p, d, q, P, D, Q = param.values()\n",
    "    try:\n",
    "      model = SARIMAX(sales_total, order=(p,d,q), seasonal_order=(P, D, Q,12), trend=\"ct\")\n",
    "      results = model.fit()\n",
    "      result_matrix.loc[len(result_matrix.index)] = [f\"({p}, {d}, {q})x({P}, {D}, {Q}, 12)\", results.mse ** 0.5, results.mae, results.aic, results.hqic, results.llf]\n",
    "    except:\n",
    "      result_matrix.loc[len(result_matrix.index)] = [f\"({p}, {d}, {q})x({P}, {D}, {Q}, 12)\", np.nan, np.nan, np.nan, np.nan, np.nan]\n",
    "\n",
    "\n",
    "grid_search(params)\n",
    "\n",
    "result_matrix.sort_values(by=\"AIC\")"
   ]
  },
  {
   "cell_type": "code",
   "execution_count": null,
   "metadata": {},
   "outputs": [],
   "source": [
    "result_matrix.sort_values(by=\"AIC\")"
   ]
  },
  {
   "cell_type": "code",
   "execution_count": null,
   "metadata": {},
   "outputs": [],
   "source": [
    "from statsmodels.tsa.statespace.sarimax import SARIMAX\n",
    "\n",
    "p, d, q, P, D, Q = 2,1,0,2,1,0\n",
    "\n",
    "model = SARIMAX(sales_total, order=(p,d,q), seasonal_order=(P,D,Q,12), trend=\"ct\")\n",
    "results = model.fit()\n",
    "results_restricted = results.apply(sales_total, refit=False)\n",
    "pred = results_restricted.get_prediction(start=\"2011-01-01\", end=\"2025-01-01\")\n",
    "data = pd.concat([sales_total, pred.predicted_mean], axis=1).reset_index()\n",
    "\n",
    "import altair as alt\n",
    "\n",
    "base = alt.Chart(data).encode(x=\"index:T\")\n",
    "alt.layer(\n",
    "base.mark_line(color=\"skyblue\").encode(y=\"Sales:Q\"),\n",
    "base.mark_line(color=\"red\").encode(y=\"predicted_mean:Q\")\n",
    ").properties(\n",
    "  width=900\n",
    ").show()\n",
    "\n",
    "print(results.aic)"
   ]
  },
  {
   "cell_type": "code",
   "execution_count": null,
   "metadata": {},
   "outputs": [],
   "source": []
  }
 ],
 "metadata": {
  "kernelspec": {
   "display_name": "dataanalysis",
   "language": "python",
   "name": "python3"
  },
  "language_info": {
   "codemirror_mode": {
    "name": "ipython",
    "version": 3
   },
   "file_extension": ".py",
   "mimetype": "text/x-python",
   "name": "python",
   "nbconvert_exporter": "python",
   "pygments_lexer": "ipython3",
   "version": "3.11.9"
  }
 },
 "nbformat": 4,
 "nbformat_minor": 2
}
