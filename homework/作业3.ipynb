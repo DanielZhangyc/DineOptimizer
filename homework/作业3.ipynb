{
 "cells": [
  {
   "cell_type": "code",
   "execution_count": null,
   "metadata": {},
   "outputs": [],
   "source": [
    "import pandas as pd\n",
    "import numpy as np\n",
    "import matplotlib.pyplot as plt\n",
    "\n",
    "supermarket_df = pd.read_csv(\"完整数据.csv\"\n",
    "                             ,encoding=\"Windows-1252\")\n",
    "supermarket_df"
   ]
  },
  {
   "cell_type": "markdown",
   "metadata": {},
   "source": [
    "观察到Date中Dtype为object，为便于分析，对其进行转化"
   ]
  },
  {
   "cell_type": "code",
   "execution_count": null,
   "metadata": {},
   "outputs": [],
   "source": [
    "supermarket_df[\"Order Date\"] = pd.to_datetime(supermarket_df[\"Order Date\"], format=\"mixed\")\n",
    "supermarket_df[\"Ship Date\"] = pd.to_datetime(supermarket_df[\"Ship Date\"], format=\"mixed\")\n",
    "supermarket_df.info()"
   ]
  },
  {
   "cell_type": "markdown",
   "metadata": {},
   "source": [
    "此时数据类型已转换完成，接下来进行数据清洗"
   ]
  },
  {
   "cell_type": "code",
   "execution_count": null,
   "metadata": {},
   "outputs": [],
   "source": [
    "# 邮编缺失值过多，删除\n",
    "supermarket_df.drop(columns=\"Postal Code\", axis=0, inplace=True)\n",
    "# 查看行是否存在重复值\n",
    "print(f\"Duplicated: {supermarket_df.duplicated().sum()}\")\n",
    "# 查看Row ID是否存在重复值\n",
    "print(f\"Row ID Duplicated: {supermarket_df[['Row ID']].duplicated().sum()}\")\n",
    "\n",
    "print(supermarket_df[supermarket_df.isna().any(axis=1)])"
   ]
  },
  {
   "cell_type": "markdown",
   "metadata": {},
   "source": [
    "# 可视化\n"
   ]
  },
  {
   "cell_type": "markdown",
   "metadata": {},
   "source": [
    "## 每月总销售额"
   ]
  },
  {
   "cell_type": "markdown",
   "metadata": {},
   "source": [
    "## "
   ]
  },
  {
   "cell_type": "code",
   "execution_count": null,
   "metadata": {},
   "outputs": [],
   "source": [
    "import altair as alt\n",
    "alt.data_transformers.disable_max_rows()\n",
    "\n",
    "alt.Chart(supermarket_df).mark_bar().encode(\n",
    "  x=\"month(Order Date):T\",\n",
    "  y=\"sum(Sales):Q\",\n",
    ").properties(\n",
    "  width=900\n",
    ").interactive()"
   ]
  },
  {
   "cell_type": "markdown",
   "metadata": {},
   "source": [
    "## 销售额折线图（按月分）"
   ]
  },
  {
   "cell_type": "code",
   "execution_count": null,
   "metadata": {},
   "outputs": [],
   "source": [
    "alt.Chart(supermarket_df).mark_line().encode(\n",
    "  x=\"yearmonth(Order Date):T\",\n",
    "  y=\"sum(Sales):Q\",\n",
    ").properties(\n",
    "  width=900\n",
    ").interactive()"
   ]
  },
  {
   "cell_type": "markdown",
   "metadata": {},
   "source": [
    "## 各市场订单量排名"
   ]
  },
  {
   "cell_type": "code",
   "execution_count": null,
   "metadata": {},
   "outputs": [],
   "source": [
    "alt.Chart(supermarket_df).mark_bar().encode(\n",
    "  x=alt.X(field=\"Market\", sort=\"-y\"),\n",
    "  y=\"sum(Sales)\",\n",
    "  color=alt.Color(\"sum(Sales):Q\")\n",
    ").properties(\n",
    "  width=600\n",
    ").interactive()"
   ]
  },
  {
   "cell_type": "markdown",
   "metadata": {},
   "source": [
    "## 前20销售额最高国家"
   ]
  },
  {
   "cell_type": "code",
   "execution_count": null,
   "metadata": {},
   "outputs": [],
   "source": [
    "alt.Chart(supermarket_df).transform_aggregate(\n",
    "  sales_sum=\"sum(Sales)\",\n",
    "  groupby=[\"Country\"]\n",
    ").transform_window(\n",
    "    rank='rank(sales_sum)',\n",
    "    sort=[alt.SortField('sales_sum', order='descending')]\n",
    ").transform_filter(\n",
    "    (alt.datum.rank < 20)\n",
    ").mark_bar(\n",
    ").encode(\n",
    "  x=alt.X(\"sales_sum:Q\", title=\"总销售额\"),\n",
    "  y=alt.Y(field=\"Country\", sort=\"-x\"),\n",
    "  color=alt.Color(\"sales_sum:Q\", title=\"总销售额\")\n",
    ").properties(\n",
    "  width=900\n",
    ")"
   ]
  },
  {
   "cell_type": "markdown",
   "metadata": {},
   "source": [
    "## 订单优先级与利润关系"
   ]
  },
  {
   "cell_type": "code",
   "execution_count": null,
   "metadata": {},
   "outputs": [],
   "source": [
    "alt.Chart(supermarket_df).mark_bar(\n",
    ").encode(\n",
    "  y=alt.Y(\"Order Priority\",sort=\"-x\"),\n",
    "  x=alt.X(\"mean(Profit)\"),\n",
    "  color=alt.Color(\"mean(Profit)\")\n",
    ").properties(\n",
    "  width=900\n",
    ")"
   ]
  }
 ],
 "metadata": {
  "kernelspec": {
   "display_name": "dataanalyse",
   "language": "python",
   "name": "python3"
  },
  "language_info": {
   "codemirror_mode": {
    "name": "ipython",
    "version": 3
   },
   "file_extension": ".py",
   "mimetype": "text/x-python",
   "name": "python",
   "nbconvert_exporter": "python",
   "pygments_lexer": "ipython3",
   "version": "3.11.9"
  }
 },
 "nbformat": 4,
 "nbformat_minor": 2
}
