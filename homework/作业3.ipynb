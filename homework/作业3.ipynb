{
 "cells": [
  {
   "cell_type": "code",
   "execution_count": null,
   "metadata": {},
   "outputs": [],
   "source": [
    "import pandas as pd\n",
    "import numpy as np\n",
    "import matplotlib.pyplot as plt\n",
    "\n",
    "supermarket_df = pd.read_csv(\"完整数据.csv\"\n",
    "                             ,encoding=\"Windows-1252\")\n",
    "supermarket_df"
   ]
  },
  {
   "cell_type": "markdown",
   "metadata": {},
   "source": [
    "观察到Date中Dtype为object，为便于分析，对其进行转化"
   ]
  },
  {
   "cell_type": "code",
   "execution_count": null,
   "metadata": {},
   "outputs": [],
   "source": [
    "supermarket_df[\"Order Date\"] = pd.to_datetime(supermarket_df[\"Order Date\"], format=\"mixed\")\n",
    "supermarket_df[\"Ship Date\"] = pd.to_datetime(supermarket_df[\"Ship Date\"], format=\"mixed\")\n",
    "supermarket_df.info()"
   ]
  },
  {
   "cell_type": "markdown",
   "metadata": {},
   "source": [
    "此时数据类型已转换完成，接下来进行数据清洗"
   ]
  },
  {
   "cell_type": "code",
   "execution_count": null,
   "metadata": {},
   "outputs": [],
   "source": [
    "# 邮编缺失值过多，删除\n",
    "supermarket_df.drop(columns=\"Postal Code\", axis=0, inplace=True)\n",
    "# 查看行是否存在重复值\n",
    "print(f\"Duplicated: {supermarket_df.duplicated().sum()}\")\n",
    "# 查看Row ID是否存在重复值\n",
    "print(f\"Row ID Duplicated: {supermarket_df[['Row ID']].duplicated().sum()}\")\n",
    "\n",
    "print(supermarket_df[supermarket_df.isna().any(axis=1)])"
   ]
  },
  {
   "cell_type": "markdown",
   "metadata": {},
   "source": [
    "# 可视化\n"
   ]
  },
  {
   "cell_type": "markdown",
   "metadata": {},
   "source": [
    "## 每月总销售额"
   ]
  },
  {
   "cell_type": "markdown",
   "metadata": {},
   "source": [
    "## "
   ]
  },
  {
   "cell_type": "code",
   "execution_count": null,
   "metadata": {},
   "outputs": [],
   "source": [
    "import altair as alt\n",
    "alt.data_transformers.disable_max_rows()\n",
    "\n",
    "alt.Chart(supermarket_df).mark_bar().encode(\n",
    "  x=\"month(Order Date):T\",\n",
    "  y=\"sum(Sales):Q\",\n",
    ").properties(\n",
    "  width=900\n",
    ").interactive()"
   ]
  },
  {
   "cell_type": "markdown",
   "metadata": {},
   "source": [
    "## 销售额折线图（按月分）"
   ]
  },
  {
   "cell_type": "code",
   "execution_count": null,
   "metadata": {},
   "outputs": [],
   "source": [
    "alt.Chart(supermarket_df).mark_line().encode(\n",
    "  x=alt.X(\"yearmonth(Order Date):T\", title=\"Order Date\"),\n",
    "  y=alt.Y(\"sum(Sales):Q\", title=\"Sum of Sales\"),\n",
    ").properties(\n",
    "  width=900\n",
    ").interactive()"
   ]
  },
  {
   "cell_type": "markdown",
   "metadata": {},
   "source": [
    "## 各市场订单量排名"
   ]
  },
  {
   "cell_type": "code",
   "execution_count": null,
   "metadata": {},
   "outputs": [],
   "source": [
    "alt.Chart(supermarket_df).mark_bar().encode(\n",
    "  y=alt.Y(field=\"Market\", sort=\"-x\"),\n",
    "  x=\"sum(Sales)\",\n",
    "  color=alt.Color(\"sum(Sales):Q\")\n",
    ").properties(\n",
    "  width=600\n",
    ").interactive()"
   ]
  },
  {
   "cell_type": "markdown",
   "metadata": {},
   "source": [
    "## 前20销售额最高国家"
   ]
  },
  {
   "cell_type": "code",
   "execution_count": null,
   "metadata": {},
   "outputs": [],
   "source": [
    "alt.Chart(supermarket_df).transform_aggregate(\n",
    "  sales_sum=\"sum(Sales)\",\n",
    "  groupby=[\"Country\"]\n",
    ").transform_window(\n",
    "    rank='rank(sales_sum)',\n",
    "    sort=[alt.SortField('sales_sum', order='descending')]\n",
    ").transform_filter(\n",
    "    (alt.datum.rank < 20)\n",
    ").mark_bar(\n",
    ").encode(\n",
    "  x=alt.X(\"sales_sum:Q\", title=\"总销售额\"),\n",
    "  y=alt.Y(field=\"Country\", sort=\"-x\"),\n",
    "  color=alt.Color(\"sales_sum:Q\", title=\"总销售额\")\n",
    ").properties(\n",
    "  width=900\n",
    ")"
   ]
  },
  {
   "cell_type": "markdown",
   "metadata": {},
   "source": [
    "## 订单优先级与利润关系"
   ]
  },
  {
   "cell_type": "code",
   "execution_count": null,
   "metadata": {},
   "outputs": [],
   "source": [
    "alt.Chart(supermarket_df).mark_bar(\n",
    ").encode(\n",
    "  y=alt.Y(\"Order Priority\",sort=\"-x\"),\n",
    "  x=alt.X(\"mean(Profit)\"),\n",
    "  color=alt.Color(\"mean(Profit)\")\n",
    ").properties(\n",
    "  width=900\n",
    ")"
   ]
  },
  {
   "cell_type": "markdown",
   "metadata": {},
   "source": [
    "## 季度销量图"
   ]
  },
  {
   "cell_type": "code",
   "execution_count": null,
   "metadata": {},
   "outputs": [],
   "source": [
    "alt.Chart(supermarket_df).mark_bar(\n",
    ").encode(\n",
    "  x=\"year(Order Date):T\",\n",
    "  y=\"sum(Sales):Q\",\n",
    "  column=\"quarter(Order Date):T\",\n",
    "  color=\"sum(Sales):Q\"\n",
    ")"
   ]
  },
  {
   "cell_type": "markdown",
   "metadata": {},
   "source": [
    "## 子分类的平均利润排行"
   ]
  },
  {
   "cell_type": "code",
   "execution_count": null,
   "metadata": {},
   "outputs": [],
   "source": [
    "supermarket_df[\"Sub-Category\"].unique()\n",
    "\n",
    "alt.Chart(supermarket_df).transform_aggregate(\n",
    "  avg_profit=\"mean(Profit)\",\n",
    "  groupby=[\"Sub-Category\"]\n",
    ").mark_bar(\n",
    ").encode(\n",
    "  x=alt.X(\"avg_profit:Q\", title=\"Mean of Profit\"),\n",
    "  y=alt.Y(\"Sub-Category\", sort=\"-x\"),\n",
    "  color=\"avg_profit:Q\"\n",
    ")"
   ]
  },
  {
   "cell_type": "markdown",
   "metadata": {},
   "source": [
    "# 不同客户类别销售额总和"
   ]
  },
  {
   "cell_type": "code",
   "execution_count": null,
   "metadata": {},
   "outputs": [],
   "source": [
    "a = supermarket_df.copy()\n",
    "a = a.groupby(\"Segment\")[\"Sales\"].sum().reset_index()\n",
    "a[\"percentage\"] = (a[\"Sales\"] / a[\"Sales\"].sum() * 100).apply(lambda x: f\"{x:.2f}%\")\n",
    "print(a)\n",
    "pie = alt.Chart(a).mark_arc(outerRadius=160).encode(\n",
    "  theta=alt.Theta(\"Sales\").stack(True),\n",
    "  color=alt.Color(\"Segment:N\")\n",
    ")\n",
    "text = pie.mark_text(radius=180, size=10).encode(\n",
    "  text=\"percentage:N\",\n",
    ")\n",
    "(pie + text)\n"
   ]
  },
  {
   "cell_type": "markdown",
   "metadata": {},
   "source": [
    "# 利润比销售额"
   ]
  },
  {
   "cell_type": "code",
   "execution_count": null,
   "metadata": {},
   "outputs": [],
   "source": [
    "prof_sales = supermarket_df.groupby(supermarket_df[\"Order Date\"].dt.year)[[\"Sales\", \"Profit\"]].sum().reset_index()\n",
    "prof_sales[\"Ratio\"] = prof_sales[\"Profit\"] / prof_sales[\"Sales\"]\n",
    "\n",
    "alt.Chart(prof_sales).mark_bar().encode(\n",
    "  x=alt.X(\"Order Date:N\", axis=alt.Axis(labelAngle=0)),\n",
    "  y=alt.Y(\"Ratio:Q\", title=\"Profit by Sales\"),\n",
    "  color=alt.Color(\"Ratio:Q\")\n",
    ").properties(\n",
    "  height=200,\n",
    "  width=500\n",
    ")\n"
   ]
  }
 ],
 "metadata": {
  "kernelspec": {
   "display_name": "dataanalyse",
   "language": "python",
   "name": "python3"
  },
  "language_info": {
   "codemirror_mode": {
    "name": "ipython",
    "version": 3
   },
   "file_extension": ".py",
   "mimetype": "text/x-python",
   "name": "python",
   "nbconvert_exporter": "python",
   "pygments_lexer": "ipython3",
   "version": "3.11.9"
  }
 },
 "nbformat": 4,
 "nbformat_minor": 2
}
